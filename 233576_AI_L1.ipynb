{
  "nbformat": 4,
  "nbformat_minor": 0,
  "metadata": {
    "colab": {
      "provenance": []
    },
    "kernelspec": {
      "name": "python3",
      "display_name": "Python 3"
    },
    "language_info": {
      "name": "python"
    }
  },
  "cells": [
    {
      "cell_type": "markdown",
      "source": [
        "My first python code."
      ],
      "metadata": {
        "id": "JDCSB2LL4aim"
      }
    },
    {
      "cell_type": "code",
      "source": [
        "print(\"python\" + \" basics\")"
      ],
      "metadata": {
        "colab": {
          "base_uri": "https://localhost:8080/"
        },
        "id": "8oR69lLR4esI",
        "outputId": "38a337a8-6d5f-4091-c32b-5ba4f20a8286"
      },
      "execution_count": 1,
      "outputs": [
        {
          "output_type": "stream",
          "name": "stdout",
          "text": [
            "python basics\n"
          ]
        }
      ]
    },
    {
      "cell_type": "code",
      "source": [
        "!python --version\n"
      ],
      "metadata": {
        "colab": {
          "base_uri": "https://localhost:8080/"
        },
        "id": "LN3YQzH85Kt7",
        "outputId": "84f3fc54-7618-4dbb-f0bf-a6a17d65aa41"
      },
      "execution_count": 2,
      "outputs": [
        {
          "output_type": "stream",
          "name": "stdout",
          "text": [
            "Python 3.12.11\n"
          ]
        }
      ]
    },
    {
      "cell_type": "code",
      "source": [
        "!pip install package_name"
      ],
      "metadata": {
        "colab": {
          "base_uri": "https://localhost:8080/"
        },
        "id": "uWckviP75yRl",
        "outputId": "cca427f7-1aac-4da0-a74b-7dec8db1bace"
      },
      "execution_count": 3,
      "outputs": [
        {
          "output_type": "stream",
          "name": "stdout",
          "text": [
            "Requirement already satisfied: package_name in /usr/local/lib/python3.12/dist-packages (0.1)\n"
          ]
        }
      ]
    },
    {
      "cell_type": "markdown",
      "source": [
        "Activity 01"
      ],
      "metadata": {
        "id": "WhzXxwYM77m8"
      }
    },
    {
      "cell_type": "code",
      "source": [
        "print(1 + 3)"
      ],
      "metadata": {
        "colab": {
          "base_uri": "https://localhost:8080/"
        },
        "id": "v4_tmUZf79-a",
        "outputId": "5da531cb-b6dd-40e2-e618-1fe5a7cf55dd"
      },
      "execution_count": 4,
      "outputs": [
        {
          "output_type": "stream",
          "name": "stdout",
          "text": [
            "4\n"
          ]
        }
      ]
    },
    {
      "cell_type": "code",
      "source": [
        "print(10 / 2)"
      ],
      "metadata": {
        "colab": {
          "base_uri": "https://localhost:8080/"
        },
        "id": "53YtZlaV8AFB",
        "outputId": "52673c92-bcca-42ea-f991-c794c9139b38"
      },
      "execution_count": 5,
      "outputs": [
        {
          "output_type": "stream",
          "name": "stdout",
          "text": [
            "5.0\n"
          ]
        }
      ]
    },
    {
      "cell_type": "code",
      "source": [
        "print(5 ** 2)"
      ],
      "metadata": {
        "colab": {
          "base_uri": "https://localhost:8080/"
        },
        "id": "atmc-NC-8Dvv",
        "outputId": "d61c382a-e9c9-4336-eb76-7ba6b36d8a5f"
      },
      "execution_count": 7,
      "outputs": [
        {
          "output_type": "stream",
          "name": "stdout",
          "text": [
            "25\n"
          ]
        }
      ]
    },
    {
      "cell_type": "markdown",
      "source": [
        "Activity 2 (String Manipulation)"
      ],
      "metadata": {
        "id": "IQmZIwNJ8V7n"
      }
    },
    {
      "cell_type": "code",
      "source": [
        "print(\"python\" + \" basics\")"
      ],
      "metadata": {
        "colab": {
          "base_uri": "https://localhost:8080/"
        },
        "id": "oo9jkKxX8W0u",
        "outputId": "791d49be-e567-446e-c071-714b8aabf375"
      },
      "execution_count": 9,
      "outputs": [
        {
          "output_type": "stream",
          "name": "stdout",
          "text": [
            "python basics\n"
          ]
        }
      ]
    },
    {
      "cell_type": "code",
      "source": [
        "print(\"AI \" * 3)"
      ],
      "metadata": {
        "colab": {
          "base_uri": "https://localhost:8080/"
        },
        "id": "nq3Tndtw8azS",
        "outputId": "7bdbbdcf-2055-4e87-c26a-92fd62a83096"
      },
      "execution_count": 10,
      "outputs": [
        {
          "output_type": "stream",
          "name": "stdout",
          "text": [
            "AI AI AI \n"
          ]
        }
      ]
    },
    {
      "cell_type": "markdown",
      "source": [
        "Activity 3"
      ],
      "metadata": {
        "id": "0rE2uRNh8mPz"
      }
    },
    {
      "cell_type": "code",
      "source": [
        "fruit = \"apple\"\n",
        "print(fruit)\n",
        "fruit = 17\n",
        "print(fruit)"
      ],
      "metadata": {
        "colab": {
          "base_uri": "https://localhost:8080/"
        },
        "id": "MJmmuoJe82Qp",
        "outputId": "1a09190a-cce4-4b08-8321-630668e449d8"
      },
      "execution_count": 13,
      "outputs": [
        {
          "output_type": "stream",
          "name": "stdout",
          "text": [
            "apple\n",
            "17\n"
          ]
        }
      ]
    },
    {
      "cell_type": "code",
      "source": [
        "x = str(3)\n",
        "y = int(3)\n",
        "z = float(3)\n",
        "print(type(x), type(y), type(z))"
      ],
      "metadata": {
        "colab": {
          "base_uri": "https://localhost:8080/"
        },
        "id": "7hbqnohe88Wh",
        "outputId": "4f233d4b-8268-4c6d-994d-d437c3fb47d1"
      },
      "execution_count": 15,
      "outputs": [
        {
          "output_type": "stream",
          "name": "stdout",
          "text": [
            "<class 'str'> <class 'int'> <class 'float'>\n"
          ]
        }
      ]
    },
    {
      "cell_type": "markdown",
      "source": [
        "Activity 4 : Working with a mixed-type list and extracting sublists"
      ],
      "metadata": {
        "id": "7Ax6G-F8-MFK"
      }
    },
    {
      "cell_type": "code",
      "source": [
        "mylist = [\"apple\", 34.5, \"banana\", 9]\n",
        "\n",
        "print(\"Complete list:\", mylist)\n",
        "\n",
        "print(\"First element:\", mylist[0])\n",
        "\n",
        "print(\"Last element:\", mylist[-1])\n",
        "\n",
        "print(\"Sublist from index 1 to 2:\", mylist[1:3])\n",
        "\n",
        "print(\"Every second element:\", mylist[::2])\n",
        "\n",
        "if \"app\" in mylist[0]:\n",
        "    print(\"Substring 'app' found in the first element.\")\n",
        "\n",
        "mylist.append(\"grape\")\n",
        "print(\"List after appending 'grape':\", mylist)\n",
        "\n",
        "mylist.remove(\"banana\")\n",
        "print(\"List after removing 'banana':\", mylist)\n",
        "\n",
        "mylist[1] = 99.9\n",
        "print(\"List after updating index 1:\", mylist)\n",
        "\n"
      ],
      "metadata": {
        "colab": {
          "base_uri": "https://localhost:8080/"
        },
        "id": "xDMrFXpJ-wdr",
        "outputId": "a59af231-faf7-4a8b-8cb0-58164e12268e"
      },
      "execution_count": 18,
      "outputs": [
        {
          "output_type": "stream",
          "name": "stdout",
          "text": [
            "Complete list: ['apple', 34.5, 'banana', 9]\n",
            "First element: apple\n",
            "Last element: 9\n",
            "Sublist from index 1 to 2: [34.5, 'banana']\n",
            "Every second element: ['apple', 'banana']\n",
            "Substring 'app' found in the first element.\n",
            "List after appending 'grape': ['apple', 34.5, 'banana', 9, 'grape']\n",
            "List after removing 'banana': ['apple', 34.5, 9, 'grape']\n",
            "List after updating index 1: ['apple', 99.9, 9, 'grape']\n"
          ]
        }
      ]
    },
    {
      "cell_type": "markdown",
      "source": [
        "Activity 5 : Perform all basic dictionary operations"
      ],
      "metadata": {
        "id": "zzMvY6KVMFDL"
      }
    },
    {
      "cell_type": "code",
      "source": [
        "car = {\"brand\": \"Ford\", \"model\": \"Mustang\", \"year\": 1964}\n",
        "print(\"Initial dictionary:\", car)\n",
        "\n",
        "print(\"Model of the car:\", car[\"model\"])\n",
        "\n",
        "car[\"year\"] = 2024\n",
        "print(\"After updating 'year':\", car)\n",
        "\n",
        "car[\"color\"] = \"red\"\n",
        "print(\"After adding a new key 'color':\", car)\n",
        "\n",
        "removed_value = car.pop(\"model\")\n",
        "print(\"Removed 'model' key with value:\", removed_value)\n",
        "print(\"Dictionary after pop operation:\", car)\n",
        "\n",
        "last_item = car.popitem()\n",
        "print(\"Removed the last inserted item:\", last_item)\n",
        "print(\"Dictionary after popitem:\", car)\n",
        "\n",
        "print(\"Get 'brand' safely:\", car.get(\"brand\"))\n",
        "print(\"Get non-existing key safely (returns None):\", car.get(\"engine\"))\n",
        "\n",
        "if \"brand\" in car:\n",
        "    print(\"'brand' key exists in the dictionary.\")\n",
        "\n",
        "print(\"All keys:\", car.keys())\n",
        "print(\"All values:\", car.values())\n",
        "print(\"All items (key–value pairs):\", car.items())\n",
        "\n",
        "car_copy = car.copy()\n",
        "print(\"Shallow copy of dictionary:\", car_copy)\n",
        "\n",
        "car.clear()\n",
        "print(\"Dictionary after clearing all items:\", car)\n"
      ],
      "metadata": {
        "colab": {
          "base_uri": "https://localhost:8080/"
        },
        "id": "AL_mVND1MJC8",
        "outputId": "5c24f637-f938-442c-90f9-5e5ddf6ae417"
      },
      "execution_count": 19,
      "outputs": [
        {
          "output_type": "stream",
          "name": "stdout",
          "text": [
            "Initial dictionary: {'brand': 'Ford', 'model': 'Mustang', 'year': 1964}\n",
            "Model of the car: Mustang\n",
            "After updating 'year': {'brand': 'Ford', 'model': 'Mustang', 'year': 2024}\n",
            "After adding a new key 'color': {'brand': 'Ford', 'model': 'Mustang', 'year': 2024, 'color': 'red'}\n",
            "Removed 'model' key with value: Mustang\n",
            "Dictionary after pop operation: {'brand': 'Ford', 'year': 2024, 'color': 'red'}\n",
            "Removed the last inserted item: ('color', 'red')\n",
            "Dictionary after popitem: {'brand': 'Ford', 'year': 2024}\n",
            "Get 'brand' safely: Ford\n",
            "Get non-existing key safely (returns None): None\n",
            "'brand' key exists in the dictionary.\n",
            "All keys: dict_keys(['brand', 'year'])\n",
            "All values: dict_values(['Ford', 2024])\n",
            "All items (key–value pairs): dict_items([('brand', 'Ford'), ('year', 2024)])\n",
            "Shallow copy of dictionary: {'brand': 'Ford', 'year': 2024}\n",
            "Dictionary after clearing all items: {}\n"
          ]
        }
      ]
    },
    {
      "cell_type": "markdown",
      "source": [
        "Activity 6 :Perform basic set operations"
      ],
      "metadata": {
        "id": "paR0uWpFMXSA"
      }
    },
    {
      "cell_type": "code",
      "source": [
        "thisset = {\"apple\", \"banana\", \"cherry\"}\n",
        "print(\"Initial set:\", thisset)\n",
        "\n",
        "set1 = {\"abc\", 34, True, 40, \"male\"}\n",
        "print(\"Mixed-type set:\", set1)\n",
        "\n",
        "thisset.add(\"orange\")\n",
        "print(\"After adding 'orange':\", thisset)\n",
        "\n",
        "thisset.update([\"grape\", \"mango\"])\n",
        "print(\"After adding multiple elements:\", thisset)\n",
        "\n",
        "thisset.remove(\"banana\")\n",
        "print(\"After removing 'banana':\", thisset)\n",
        "\n",
        "thisset.discard(\"papaya\")\n",
        "print(\"After attempting to discard 'papaya' (not present):\", thisset)\n",
        "\n",
        "removed_item = thisset.pop()\n",
        "print(\"Removed an arbitrary element:\", removed_item)\n",
        "print(\"Set after pop operation:\", thisset)\n",
        "\n",
        "print(\"Is 'apple' in the set?\", \"apple\" in thisset)\n",
        "\n",
        "union_set = thisset.union(set1)\n",
        "print(\"Union of thisset and set1:\", union_set)\n",
        "\n",
        "intersection_set = thisset.intersection(set1)\n",
        "print(\"Intersection of thisset and set1:\", intersection_set)\n",
        "\n",
        "difference_set = thisset.difference(set1)\n",
        "print(\"Difference (thisset - set1):\", difference_set)\n",
        "\n",
        "copy_set = thisset.copy()\n",
        "print(\"Copy of the set:\", copy_set)\n",
        "\n",
        "thisset.clear()\n",
        "print(\"Set after clearing all elements:\", thisset)\n"
      ],
      "metadata": {
        "colab": {
          "base_uri": "https://localhost:8080/"
        },
        "id": "7hRtBOy7MaMw",
        "outputId": "3f730fba-ab9a-4b53-be69-e243c4f2cec0"
      },
      "execution_count": 20,
      "outputs": [
        {
          "output_type": "stream",
          "name": "stdout",
          "text": [
            "Initial set: {'banana', 'apple', 'cherry'}\n",
            "Mixed-type set: {'male', True, 34, 40, 'abc'}\n",
            "After adding 'orange': {'banana', 'orange', 'apple', 'cherry'}\n",
            "After adding multiple elements: {'banana', 'mango', 'orange', 'grape', 'cherry', 'apple'}\n",
            "After removing 'banana': {'mango', 'orange', 'grape', 'cherry', 'apple'}\n",
            "After attempting to discard 'papaya' (not present): {'mango', 'orange', 'grape', 'cherry', 'apple'}\n",
            "Removed an arbitrary element: mango\n",
            "Set after pop operation: {'orange', 'grape', 'cherry', 'apple'}\n",
            "Is 'apple' in the set? True\n",
            "Union of thisset and set1: {True, 34, 40, 'orange', 'grape', 'cherry', 'male', 'abc', 'apple'}\n",
            "Intersection of thisset and set1: set()\n",
            "Difference (thisset - set1): {'apple', 'orange', 'grape', 'cherry'}\n",
            "Copy of the set: {'apple', 'orange', 'grape', 'cherry'}\n",
            "Set after clearing all elements: set()\n"
          ]
        }
      ]
    },
    {
      "cell_type": "markdown",
      "source": [
        "Activity 7 : Execute code based on logical conditions."
      ],
      "metadata": {
        "id": "sBom39WyMj8G"
      }
    },
    {
      "cell_type": "code",
      "source": [
        "thistuple = (\"apple\", \"banana\", \"cherry\")\n",
        "print(thistuple[1])"
      ],
      "metadata": {
        "colab": {
          "base_uri": "https://localhost:8080/"
        },
        "id": "rwitn4wAMnAx",
        "outputId": "1df0647b-2149-46eb-f7f4-5af170f05e60"
      },
      "execution_count": 21,
      "outputs": [
        {
          "output_type": "stream",
          "name": "stdout",
          "text": [
            "banana\n"
          ]
        }
      ]
    },
    {
      "cell_type": "markdown",
      "source": [
        "Activity 8"
      ],
      "metadata": {
        "id": "-DwfJJ7CMu6w"
      }
    },
    {
      "cell_type": "code",
      "source": [
        "a, b = 33, 200\n",
        "\n",
        "if b > a:\n",
        "    print(\"b is greater than a\")\n",
        "elif a == b:\n",
        "    print(\"a and b are equal\")\n",
        "else:\n",
        "    print(\"a is greater than b\")\n"
      ],
      "metadata": {
        "colab": {
          "base_uri": "https://localhost:8080/"
        },
        "id": "x-YhvbDoMxVJ",
        "outputId": "00311a45-ecd3-40f8-8e28-8458f96021b0"
      },
      "execution_count": 23,
      "outputs": [
        {
          "output_type": "stream",
          "name": "stdout",
          "text": [
            "b is greater than a\n"
          ]
        }
      ]
    },
    {
      "cell_type": "markdown",
      "source": [
        "Activity 9 : Explore for-loop with range and additional operations"
      ],
      "metadata": {
        "id": "8GObgdQpM54A"
      }
    },
    {
      "cell_type": "code",
      "source": [
        "for i in range(5):\n",
        "    print(\"Number:\", i)\n",
        "\n",
        "for i in range(2, 7):\n",
        "    print(\"From 2 to 6:\", i)\n",
        "\n",
        "for i in range(0, 10, 2):\n",
        "    print(\"Even number:\", i)\n",
        "\n",
        "for i in range(5, 0, -1):\n",
        "    print(\"Countdown:\", i)\n",
        "\n",
        "fruits = [\"apple\", \"banana\", \"cherry\"]\n",
        "for index in range(len(fruits)):\n",
        "    print(\"Index:\", index, \"Fruit:\", fruits[index])\n",
        "\n",
        "for i in range(10):\n",
        "    if i % 2 != 0:\n",
        "        print(\"Odd number:\", i)\n"
      ],
      "metadata": {
        "colab": {
          "base_uri": "https://localhost:8080/"
        },
        "id": "Z6N_zTPtM8u_",
        "outputId": "a4d3ee02-9702-4250-86a6-61a66045427c"
      },
      "execution_count": 24,
      "outputs": [
        {
          "output_type": "stream",
          "name": "stdout",
          "text": [
            "Number: 0\n",
            "Number: 1\n",
            "Number: 2\n",
            "Number: 3\n",
            "Number: 4\n",
            "From 2 to 6: 2\n",
            "From 2 to 6: 3\n",
            "From 2 to 6: 4\n",
            "From 2 to 6: 5\n",
            "From 2 to 6: 6\n",
            "Even number: 0\n",
            "Even number: 2\n",
            "Even number: 4\n",
            "Even number: 6\n",
            "Even number: 8\n",
            "Countdown: 5\n",
            "Countdown: 4\n",
            "Countdown: 3\n",
            "Countdown: 2\n",
            "Countdown: 1\n",
            "Index: 0 Fruit: apple\n",
            "Index: 1 Fruit: banana\n",
            "Index: 2 Fruit: cherry\n",
            "Odd number: 1\n",
            "Odd number: 3\n",
            "Odd number: 5\n",
            "Odd number: 7\n",
            "Odd number: 9\n"
          ]
        }
      ]
    },
    {
      "cell_type": "markdown",
      "source": [
        "Activity 10: Working with Functions and Different Types of Arguments"
      ],
      "metadata": {
        "id": "fe9G6bvBNJSf"
      }
    },
    {
      "cell_type": "code",
      "source": [
        "def my_function(fname, lname):\n",
        "    print(\"Full name:\", fname + \" \" + lname)\n",
        "\n",
        "my_function(\"Emil\", \"Refsnes\")\n",
        "\n",
        "\n",
        "def kids_function(*kids):\n",
        "    print(\"The youngest child is:\", kids[2])\n",
        "\n",
        "kids_function(\"Emil\", \"Tobias\", \"Linus\")\n",
        "\n",
        "\n",
        "def greet_user(name=\"Guest\"):\n",
        "    print(\"Hello,\", name)\n",
        "\n",
        "greet_user()\n",
        "greet_user(\"Alice\")\n",
        "\n",
        "\n",
        "def describe_pet(**pet_info):\n",
        "    print(\"Pet details:\")\n",
        "    for key, value in pet_info.items():\n",
        "        print(key.capitalize() + \":\", value)\n",
        "\n",
        "describe_pet(type=\"Dog\", name=\"Buddy\", age=5)\n",
        "\n",
        "\n",
        "def add_numbers(a, b):\n",
        "    return a + b\n",
        "\n",
        "result = add_numbers(10, 20)\n",
        "print(\"Sum of numbers:\", result)\n"
      ],
      "metadata": {
        "colab": {
          "base_uri": "https://localhost:8080/"
        },
        "id": "nL4LP9ldNKGl",
        "outputId": "207db6af-b7fd-4ecc-9345-ddb6de1b3130"
      },
      "execution_count": 25,
      "outputs": [
        {
          "output_type": "stream",
          "name": "stdout",
          "text": [
            "Full name: Emil Refsnes\n",
            "The youngest child is: Linus\n",
            "Hello, Guest\n",
            "Hello, Alice\n",
            "Pet details:\n",
            "Type: Dog\n",
            "Name: Buddy\n",
            "Age: 5\n",
            "Sum of numbers: 30\n"
          ]
        }
      ]
    },
    {
      "cell_type": "markdown",
      "source": [
        "Exercises"
      ],
      "metadata": {
        "id": "t9FRotmaNmip"
      }
    },
    {
      "cell_type": "markdown",
      "source": [
        "1. Check if a number is prime"
      ],
      "metadata": {
        "id": "fY1QG9iCOztA"
      }
    },
    {
      "cell_type": "code",
      "source": [
        "num = 29\n",
        "is_prime = True\n",
        "if num > 1:\n",
        "    for i in range(2, num):\n",
        "        if num % i == 0:\n",
        "            is_prime = False\n",
        "            break\n",
        "if is_prime:\n",
        "    print(num, \"is a prime number\")\n",
        "else:\n",
        "    print(num, \"is not a prime number\")"
      ],
      "metadata": {
        "colab": {
          "base_uri": "https://localhost:8080/"
        },
        "id": "ja8dWNq1Npwn",
        "outputId": "54aa1125-6fdc-4fc6-e634-fb91bbebe5fa"
      },
      "execution_count": 26,
      "outputs": [
        {
          "output_type": "stream",
          "name": "stdout",
          "text": [
            "29 is a prime number\n"
          ]
        }
      ]
    },
    {
      "cell_type": "markdown",
      "source": [
        " 2. Average of 10 numbers"
      ],
      "metadata": {
        "id": "l9eoSuxfNtVY"
      }
    },
    {
      "cell_type": "code",
      "source": [
        "numbers = [10, 20, 30, 40, 50, 60, 70, 80, 90, 100]\n",
        "average = sum(numbers) / len(numbers)\n",
        "print(\"Average:\", average)"
      ],
      "metadata": {
        "colab": {
          "base_uri": "https://localhost:8080/"
        },
        "id": "KHmwyBITNxnD",
        "outputId": "c0af22bf-9c38-42e8-fa1f-cf47947ca08e"
      },
      "execution_count": 27,
      "outputs": [
        {
          "output_type": "stream",
          "name": "stdout",
          "text": [
            "Average: 55.0\n"
          ]
        }
      ]
    },
    {
      "cell_type": "markdown",
      "source": [
        "3. Student topper from dictionary"
      ],
      "metadata": {
        "id": "IB7MQ6waN0L3"
      }
    },
    {
      "cell_type": "code",
      "source": [
        "students = {\"Ali\": 85, \"Sara\": 92, \"John\": 78, \"Zara\": 95}\n",
        "topper = max(students, key=students.get)\n",
        "print(\"Topper:\", topper, \"with marks\", students[topper])"
      ],
      "metadata": {
        "colab": {
          "base_uri": "https://localhost:8080/"
        },
        "id": "Jy82YB4WN2Kv",
        "outputId": "5851da56-03db-4a0b-bc0d-44186795d7c1"
      },
      "execution_count": 28,
      "outputs": [
        {
          "output_type": "stream",
          "name": "stdout",
          "text": [
            "Topper: Zara with marks 95\n"
          ]
        }
      ]
    },
    {
      "cell_type": "markdown",
      "source": [
        "4. Set operations"
      ],
      "metadata": {
        "id": "lB602GMEN5uR"
      }
    },
    {
      "cell_type": "code",
      "source": [
        "set1 = {1, 2, 3, 4}\n",
        "set2 = {3, 4, 5, 6}\n",
        "print(\"Union:\", set1.union(set2))\n",
        "print(\"Intersection:\", set1.intersection(set2))\n",
        "print(\"Difference:\", set1.difference(set2))"
      ],
      "metadata": {
        "colab": {
          "base_uri": "https://localhost:8080/"
        },
        "id": "wQdcdJ2QN9DP",
        "outputId": "05de4497-d46f-4521-a771-4b98bd495efc"
      },
      "execution_count": 29,
      "outputs": [
        {
          "output_type": "stream",
          "name": "stdout",
          "text": [
            "Union: {1, 2, 3, 4, 5, 6}\n",
            "Intersection: {3, 4}\n",
            "Difference: {1, 2}\n"
          ]
        }
      ]
    },
    {
      "cell_type": "markdown",
      "source": [
        "5. Factorial using recursion"
      ],
      "metadata": {
        "id": "-SJvvF23OBJ8"
      }
    },
    {
      "cell_type": "code",
      "source": [
        "def factorial(n):\n",
        "    if n == 0 or n == 1:\n",
        "        return 1\n",
        "    else:\n",
        "        return n * factorial(n - 1)\n",
        "\n",
        "print(\"Factorial of 5:\", factorial(5))\n"
      ],
      "metadata": {
        "colab": {
          "base_uri": "https://localhost:8080/"
        },
        "id": "c6plR71TOEDE",
        "outputId": "bb3101da-1017-4ba1-f5c3-5b860e0c98d5"
      },
      "execution_count": 30,
      "outputs": [
        {
          "output_type": "stream",
          "name": "stdout",
          "text": [
            "Factorial of 5: 120\n"
          ]
        }
      ]
    },
    {
      "cell_type": "markdown",
      "source": [
        "6. Fibonacci series using for loop"
      ],
      "metadata": {
        "id": "TIOnBUg-OJsS"
      }
    },
    {
      "cell_type": "code",
      "source": [
        "n = 10\n",
        "a, b = 0, 1\n",
        "print(\"Fibonacci series:\")\n",
        "for _ in range(n):\n",
        "    print(a, end=\" \")\n",
        "    a, b = b, a + b\n",
        "print()\n"
      ],
      "metadata": {
        "colab": {
          "base_uri": "https://localhost:8080/"
        },
        "id": "0d62uUiWOKl2",
        "outputId": "d796a6a1-5bc6-4201-eab2-a67d667b3961"
      },
      "execution_count": 31,
      "outputs": [
        {
          "output_type": "stream",
          "name": "stdout",
          "text": [
            "Fibonacci series:\n",
            "0 1 1 2 3 5 8 13 21 34 \n"
          ]
        }
      ]
    },
    {
      "cell_type": "markdown",
      "source": [
        "7. Count vowels in a string"
      ],
      "metadata": {
        "id": "6jISm0M7OR5n"
      }
    },
    {
      "cell_type": "code",
      "source": [
        "text = \"Hello World\"\n",
        "vowels = \"aeiouAEIOU\"\n",
        "count = 0\n",
        "for char in text:\n",
        "    if char in vowels:\n",
        "        count += 1\n",
        "print(\"Number of vowels:\", count)"
      ],
      "metadata": {
        "colab": {
          "base_uri": "https://localhost:8080/"
        },
        "id": "fj0Jt5NnOYWr",
        "outputId": "5e11460b-2cfa-4f65-c0fa-a6ce24b9f191"
      },
      "execution_count": 32,
      "outputs": [
        {
          "output_type": "stream",
          "name": "stdout",
          "text": [
            "Number of vowels: 3\n"
          ]
        }
      ]
    },
    {
      "cell_type": "markdown",
      "source": [
        "8. Tuple max and min"
      ],
      "metadata": {
        "id": "pSjUoXJyOg7l"
      }
    },
    {
      "cell_type": "code",
      "source": [
        "my_tuple = (10, 25, 3, 89, 45)\n",
        "print(\"Maximum:\", max(my_tuple))\n",
        "print(\"Minimum:\", min(my_tuple))"
      ],
      "metadata": {
        "colab": {
          "base_uri": "https://localhost:8080/"
        },
        "id": "C7dOxcsWOh6T",
        "outputId": "e7182663-4ea0-47a7-a558-7c3c5c4b36eb"
      },
      "execution_count": 33,
      "outputs": [
        {
          "output_type": "stream",
          "name": "stdout",
          "text": [
            "Maximum: 89\n",
            "Minimum: 3\n"
          ]
        }
      ]
    },
    {
      "cell_type": "markdown",
      "source": [
        "9. Reverse a string from user input"
      ],
      "metadata": {
        "id": "SSpGf4rMOnZh"
      }
    },
    {
      "cell_type": "code",
      "source": [
        "user_input = \"Python\"\n",
        "reversed_string = user_input[::-1]\n",
        "print(\"Reversed string:\", reversed_string)"
      ],
      "metadata": {
        "colab": {
          "base_uri": "https://localhost:8080/"
        },
        "id": "9iUsmZekOrqG",
        "outputId": "081cb3a1-a900-4797-c856-1a9d0b3e2a45"
      },
      "execution_count": 34,
      "outputs": [
        {
          "output_type": "stream",
          "name": "stdout",
          "text": [
            "Reversed string: nohtyP\n"
          ]
        }
      ]
    }
  ]
}